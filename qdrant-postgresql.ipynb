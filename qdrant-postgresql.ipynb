{
 "cells": [
  {
   "cell_type": "markdown",
   "metadata": {},
   "source": [
    "# Embeddings laden"
   ]
  },
  {
   "cell_type": "code",
   "execution_count": 1,
   "metadata": {},
   "outputs": [],
   "source": [
    "import gensim"
   ]
  },
  {
   "cell_type": "code",
   "execution_count": 2,
   "metadata": {},
   "outputs": [],
   "source": [
    "from gensim.models import KeyedVectors"
   ]
  },
  {
   "cell_type": "code",
   "execution_count": 3,
   "metadata": {},
   "outputs": [],
   "source": [
    "w2v = KeyedVectors.load_word2vec_format(\"newsticker.bin\", binary=True)"
   ]
  },
  {
   "cell_type": "code",
   "execution_count": 4,
   "metadata": {},
   "outputs": [
    {
     "data": {
      "text/plain": [
       "393997"
      ]
     },
     "execution_count": 4,
     "metadata": {},
     "output_type": "execute_result"
    }
   ],
   "source": [
    "len(w2v)"
   ]
  },
  {
   "cell_type": "code",
   "execution_count": 5,
   "metadata": {},
   "outputs": [
    {
     "data": {
      "text/plain": [
       "300"
      ]
     },
     "execution_count": 5,
     "metadata": {},
     "output_type": "execute_result"
    }
   ],
   "source": [
    "w2v.vector_size"
   ]
  },
  {
   "cell_type": "code",
   "execution_count": 6,
   "metadata": {},
   "outputs": [
    {
     "data": {
      "text/plain": [
       "[('linux_bsd', 0.5779598355293274),\n",
       " ('unix-derivate', 0.5751985311508179),\n",
       " ('openvms', 0.5634273290634155),\n",
       " ('suse_downloadseite', 0.5558210015296936),\n",
       " ('motif', 0.5551407933235168),\n",
       " ('gnu_linux', 0.5539237856864929),\n",
       " ('linux-variant', 0.5514055490493774),\n",
       " ('unix-ähnlich_betriebssystem', 0.5510704517364502),\n",
       " ('linux-distribution', 0.5510043501853943),\n",
       " ('unix-derivat', 0.5471871495246887)]"
      ]
     },
     "execution_count": 6,
     "metadata": {},
     "output_type": "execute_result"
    }
   ],
   "source": [
    "w2v.most_similar(\"linux\")"
   ]
  },
  {
   "cell_type": "markdown",
   "metadata": {},
   "source": [
    "# qdrant"
   ]
  },
  {
   "cell_type": "code",
   "execution_count": 22,
   "metadata": {},
   "outputs": [],
   "source": [
    "from qdrant_client import QdrantClient\n",
    "from qdrant_client.models import VectorParams, Distance, FieldCondition, \\\n",
    "                                 MatchValue, OptimizersConfigDiff, Filter, \\\n",
    "                                 PayloadSchemaType, BinaryQuantization, BinaryQuantizationConfig\n",
    "\n",
    "qc = QdrantClient(host='localhost', port=6333, timeout=6000, \n",
    "                  grpc_port=6334, prefer_grpc=True)"
   ]
  },
  {
   "cell_type": "code",
   "execution_count": null,
   "metadata": {},
   "outputs": [],
   "source": [
    "qc.recreate_collection(\n",
    "    collection_name='newsticker', \n",
    "    vectors_config=VectorParams(size=w2v.vector_size, distance=Distance.COSINE),\n",
    "    optimizers_config=OptimizersConfigDiff(memmap_threshold=0),\n",
    "    on_disk_payload=False\n",
    ")"
   ]
  },
  {
   "cell_type": "code",
   "execution_count": null,
   "metadata": {},
   "outputs": [],
   "source": [
    "%%time\n",
    "qc.upload_collection(\n",
    "    collection_name='newsticker',\n",
    "    vectors=w2v.vectors,\n",
    "    payload=[{\"word\": k} for k in w2v.index_to_key],\n",
    "    ids=None,  # Vector ids will be assigned automatically\n",
    ")"
   ]
  },
  {
   "cell_type": "code",
   "execution_count": 10,
   "metadata": {},
   "outputs": [
    {
     "name": "stdout",
     "output_type": "stream",
     "text": [
      "CPU times: user 6.39 ms, sys: 1.22 ms, total: 7.61 ms\n",
      "Wall time: 37.9 ms\n"
     ]
    }
   ],
   "source": [
    "%%time\n",
    "r = qc.search(collection_name='newsticker', \n",
    "          query_vector=[0.0 for i in range(w2v.vector_size)], \n",
    "          with_vectors=True,\n",
    "          limit=10,\n",
    "          query_filter=Filter(must=[FieldCondition(key=\"word\", match=MatchValue(value=\"linux\"))])\n",
    "         )"
   ]
  },
  {
   "cell_type": "code",
   "execution_count": 13,
   "metadata": {},
   "outputs": [
    {
     "data": {
      "text/plain": [
       "UpdateResult(operation_id=18472, status=<UpdateStatus.COMPLETED: 'completed'>)"
      ]
     },
     "execution_count": 13,
     "metadata": {},
     "output_type": "execute_result"
    }
   ],
   "source": [
    "qc.create_payload_index(\n",
    "    collection_name=\"newsticker\",\n",
    "    field_name=\"word\",\n",
    "    field_schema=PayloadSchemaType.KEYWORD\n",
    ")"
   ]
  },
  {
   "cell_type": "code",
   "execution_count": 14,
   "metadata": {},
   "outputs": [
    {
     "name": "stdout",
     "output_type": "stream",
     "text": [
      "CPU times: user 3.14 ms, sys: 0 ns, total: 3.14 ms\n",
      "Wall time: 34.3 ms\n"
     ]
    }
   ],
   "source": [
    "%%time\n",
    "r = qc.search(collection_name='newsticker', \n",
    "          query_vector=[0.0 for i in range(w2v.vector_size)], \n",
    "          with_vectors=True,\n",
    "          limit=10,\n",
    "          query_filter=Filter(must=[FieldCondition(key=\"word\", match=MatchValue(value=\"linux\"))])\n",
    "         )"
   ]
  },
  {
   "cell_type": "code",
   "execution_count": 15,
   "metadata": {},
   "outputs": [
    {
     "name": "stdout",
     "output_type": "stream",
     "text": [
      "CPU times: user 1.52 ms, sys: 738 µs, total: 2.26 ms\n",
      "Wall time: 3.15 ms\n"
     ]
    }
   ],
   "source": [
    "%%time\n",
    "r2 = qc.search(collection_name='newsticker', \n",
    "          query_vector=r[0].vector, \n",
    "          with_vectors=False,\n",
    "          limit=10,\n",
    "         )"
   ]
  },
  {
   "cell_type": "code",
   "execution_count": 17,
   "metadata": {},
   "outputs": [
    {
     "data": {
      "text/plain": [
       "[[0.9999999403953552, 'linux'],\n",
       " [0.5779598951339722, 'linux_bsd'],\n",
       " [0.5751985907554626, 'unix-derivate'],\n",
       " [0.5634274482727051, 'openvms'],\n",
       " [0.5558210611343384, 'suse_downloadseite'],\n",
       " [0.5551407337188721, 'motif'],\n",
       " [0.5539238452911377, 'gnu_linux'],\n",
       " [0.5514057874679565, 'linux-variant'],\n",
       " [0.5510704517364502, 'unix-ähnlich_betriebssystem'],\n",
       " [0.5510043501853943, 'linux-distribution']]"
      ]
     },
     "execution_count": 17,
     "metadata": {},
     "output_type": "execute_result"
    }
   ],
   "source": [
    "[[r.score, r.payload[\"word\"]] for r in r2]"
   ]
  },
  {
   "cell_type": "code",
   "execution_count": 24,
   "metadata": {},
   "outputs": [
    {
     "name": "stdout",
     "output_type": "stream",
     "text": [
      "CPU times: user 2.79 ms, sys: 1.29 ms, total: 4.08 ms\n",
      "Wall time: 1.72 s\n"
     ]
    },
    {
     "data": {
      "text/plain": [
       "True"
      ]
     },
     "execution_count": 24,
     "metadata": {},
     "output_type": "execute_result"
    }
   ],
   "source": [
    "%%time\n",
    "qc.update_collection(\n",
    "    collection_name=\"newsticker\",\n",
    "    quantization_config=BinaryQuantization(\n",
    "        binary=BinaryQuantizationConfig(always_ram=True)\n",
    "    )\n",
    ")"
   ]
  },
  {
   "cell_type": "code",
   "execution_count": 25,
   "metadata": {},
   "outputs": [
    {
     "data": {
      "application/vnd.jupyter.widget-view+json": {
       "model_id": "808669e7579e4139a9b168da02197ada",
       "version_major": 2,
       "version_minor": 0
      },
      "text/plain": [
       "  0%|          | 0/393997 [00:00<?, ?it/s]"
      ]
     },
     "metadata": {},
     "output_type": "display_data"
    }
   ],
   "source": [
    "from tqdm.auto import tqdm\n",
    "for w in tqdm(w2v.index_to_key, total=len(w2v.index_to_key)):\n",
    "    r = qc.search(collection_name='newsticker', \n",
    "          query_vector=[0.0 for i in range(w2v.vector_size)], \n",
    "          with_vectors=True,\n",
    "          limit=10,\n",
    "          query_filter=Filter(must=[FieldCondition(key=\"word\", match=MatchValue(value=w))])\n",
    "         )"
   ]
  },
  {
   "cell_type": "code",
   "execution_count": 50,
   "metadata": {},
   "outputs": [
    {
     "data": {
      "application/vnd.jupyter.widget-view+json": {
       "model_id": "a75cfd95063e4ed08660c83bff80a9be",
       "version_major": 2,
       "version_minor": 0
      },
      "text/plain": [
       "  0%|          | 0/393997 [00:00<?, ?it/s]"
      ]
     },
     "metadata": {},
     "output_type": "display_data"
    }
   ],
   "source": [
    "for v in tqdm(w2v.vectors, total=len(w2v.vectors)):\n",
    "    r = qc.search(collection_name='newsticker', \n",
    "          query_vector=v, \n",
    "          with_vectors=True,\n",
    "          limit=10\n",
    "         )"
   ]
  },
  {
   "cell_type": "code",
   "execution_count": null,
   "metadata": {},
   "outputs": [],
   "source": []
  },
  {
   "cell_type": "markdown",
   "metadata": {},
   "source": [
    "# Postgres"
   ]
  },
  {
   "cell_type": "code",
   "execution_count": null,
   "metadata": {},
   "outputs": [],
   "source": [
    "from sqlalchemy import create_engine\n",
    "psql = create_engine('postgresql:///newsticker')"
   ]
  },
  {
   "cell_type": "code",
   "execution_count": 29,
   "metadata": {},
   "outputs": [],
   "source": [
    "import psycopg\n",
    "psql = psycopg.connect(\"dbname=newsticker\")"
   ]
  },
  {
   "cell_type": "code",
   "execution_count": 30,
   "metadata": {},
   "outputs": [],
   "source": [
    "# Vector-Extension und Tabelle anlegen\n",
    "psql.execute(\"CREATE EXTENSION vector\")        \n",
    "psql.execute(\"CREATE TABLE embeddings (word TEXT NOT NULL PRIMARY KEY, embedding VECTOR(300))\")\n",
    "psql.commit()"
   ]
  },
  {
   "cell_type": "code",
   "execution_count": 31,
   "metadata": {},
   "outputs": [
    {
     "data": {
      "application/vnd.jupyter.widget-view+json": {
       "model_id": "43389b498f894f77b83e1eeb1319a45a",
       "version_major": 2,
       "version_minor": 0
      },
      "text/plain": [
       "  0%|          | 0/393997 [00:00<?, ?it/s]"
      ]
     },
     "metadata": {},
     "output_type": "display_data"
    }
   ],
   "source": [
    "from tqdm.auto import tqdm\n",
    "for word in tqdm(w2v.index_to_key, total=len(w2v)):\n",
    "    psql.execute(\"INSERT INTO embeddings (word, embedding) VALUES (%s, %s)\",\n",
    "                (word, str(list(w2v[word]))))\n",
    "psql.commit()"
   ]
  },
  {
   "cell_type": "code",
   "execution_count": 32,
   "metadata": {},
   "outputs": [
    {
     "name": "stdout",
     "output_type": "stream",
     "text": [
      "CPU times: user 3.38 ms, sys: 0 ns, total: 3.38 ms\n",
      "Wall time: 221 ms\n"
     ]
    },
    {
     "data": {
      "text/plain": [
       "('linux',\n",
       " '[0.9589558,0.19947146,-0.4096641,0.017722009,-1.248387,-0.5330077,1.075491,-0.06663409,-0.35737067,-0.5795995,0.110878274,0.23789768,-0.63666457,-0.5599161,0.24903178,-1.0020274,0.69734097,-0.23216513,0.84816086,-0.80528027,-0.8973152,0.52024066,0.23125485,-1.0612818,-1.0891576,-1.1822853,-1.281176,0.50714666,0.99066544,0.15231892,-0.83849996,0.07902937,1.1686418,0.018616887,0.7951601,-0.9614738,0.57500136,0.82044953,-0.3075975,-1.0482547,0.30146852,-1.6498418,-0.026289744,-0.043323234,0.45177528,0.029446198,-0.6337627,0.31244415,0.59559476,-0.23203942,-0.5385304,0.24233422,0.12640923,-0.620869,-0.28922755,0.09376014,-1.6695409,-0.17653067,0.34263787,-0.7501536,0.7521111,0.43047214,-0.3684961,-0.38368693,-1.3479874,0.35782832,0.32592556,0.3600103,0.13949881,0.38488752,-0.07509829,0.71128356,-0.35133773,-0.6554507,-1.0370524,0.37548238,-1.1510168,-1.1007159,-0.5090775,1.6262338,-0.6459884,-0.21367016,0.11266727,1.1709536,-0.9748765,0.059127357,0.9341988,1.4555093,0.58458704,1.5355253,-0.80748695,-1.0419607,-1.139069,-0.50000876,-0.27611294,-1.3700806,0.07088611,0.43411484,-0.96661067,-0.3856011,0.29825696,0.03719301,-0.6585384,0.045904,0.027083676,-1.062101,-1.1177806,-1.7062092,0.648701,-0.43263918,-0.5397736,1.0336282,0.01278484,0.5023644,0.77418655,-0.45322758,-0.824253,0.40507424,-0.22244747,0.008643905,-1.6903111,-0.54959124,-0.42654178,0.10197284,1.2111919,0.6261192,0.28068575,0.78626966,-0.27309322,0.52256536,0.3516026,-0.74913293,2.0253427,-0.9041472,-0.46046844,1.2920845,0.24367835,-1.0416805,-0.2854871,-0.20923464,0.4578227,0.8312747,-1.6262004,0.2901094,-1.904957,1.0905331,-0.9852239,-0.3609869,-0.86554,0.81585556,-0.31047443,0.70638984,0.7853113,-0.3170985,0.39972073,0.2563166,0.3035872,-0.38497877,-0.115591355,0.97828686,-0.3606223,0.49896845,0.0059947353,1.0835688,-1.0223321,0.14031883,-0.35344207,0.006369911,0.27003285,-1.3428594,-0.22256032,-0.3898308,0.2323332,0.58781123,0.70530033,-0.6260326,0.09642251,-1.3679819,0.16107425,1.2172289,0.8526164,0.19849853,1.5006143,-0.42370707,1.0046304,-0.92041343,-0.4566961,-0.891416,-0.4852215,-1.7176155,-0.6832069,0.37545025,-0.9101614,0.059643485,0.92065257,0.088366285,0.37933615,-0.0005303244,-1.2555441,1.6223476,0.5582273,-0.42822388,0.5512013,-0.2052891,-0.40142006,-0.6473173,-0.5677388,-0.9359622,0.42552394,1.6912884,0.8185068,1.4002713,-1.0175748,-1.297649,0.031858295,0.9328658,0.36867544,0.3513128,1.9159875,0.06658958,0.43379658,0.81867975,0.49215966,1.1245689,-0.7603016,0.41021883,0.49309093,-0.7442125,0.5163857,-0.8433947,-2.1963453,0.31255487,0.16921628,-0.27562883,-0.6842037,0.43434864,-0.07059401,-0.25492063,-0.60592484,-0.2769702,-0.07341991,-0.24123439,0.23145874,1.0087295,-0.014949916,-0.16136922,-0.16075559,-0.3731717,0.94269866,1.6543473,-1.5183698,0.4327001,0.64190054,0.73088837,0.6315393,-1.8313972,0.18067081,0.90463775,-0.95441014,-0.641419,-0.4227085,-0.7431156,-0.6215458,0.7052406,0.2846805,-0.70914793,-0.312666,0.08972054,-0.06372872,0.16911677,-1.3073326,-1.0844477,-0.71696466,1.5819474,-0.398288,0.7707697,1.2753266,0.122980416,0.94764006,-0.10396885,-0.29929453,-0.87353396,-1.4570682,1.7840626,0.24038926,-0.07321305,0.342569,0.5030192,-1.0027071,-0.09480165,0.6805559,0.68986636,0.5478689,-0.9912384,1.2578719,0.5514981,-0.38763544,0.24862675,0.2784662,-0.11077061]')"
      ]
     },
     "execution_count": 32,
     "metadata": {},
     "output_type": "execute_result"
    }
   ],
   "source": [
    "%%time\n",
    "r = psql.execute(\"SELECT * FROM embeddings WHERE word=%s\", (\"linux\",)).fetchone()\n",
    "r"
   ]
  },
  {
   "cell_type": "code",
   "execution_count": 33,
   "metadata": {},
   "outputs": [
    {
     "name": "stdout",
     "output_type": "stream",
     "text": [
      "CPU times: user 2.41 ms, sys: 0 ns, total: 2.41 ms\n",
      "Wall time: 287 ms\n"
     ]
    },
    {
     "data": {
      "text/plain": [
       "[('linux',),\n",
       " ('linux_bsd',),\n",
       " ('unix-derivate',),\n",
       " ('openvms',),\n",
       " ('suse_downloadseite',),\n",
       " ('motif',),\n",
       " ('gnu_linux',),\n",
       " ('linux-variant',),\n",
       " ('unix-ähnlich_betriebssystem',),\n",
       " ('linux-distribution',)]"
      ]
     },
     "execution_count": 33,
     "metadata": {},
     "output_type": "execute_result"
    }
   ],
   "source": [
    "%%time\n",
    "r2 = psql.execute(\"SELECT word FROM embeddings ORDER BY embedding <=> %s LIMIT 10\", (r[1],)).fetchall()\n",
    "r2"
   ]
  },
  {
   "cell_type": "code",
   "execution_count": 34,
   "metadata": {},
   "outputs": [
    {
     "name": "stdout",
     "output_type": "stream",
     "text": [
      "CPU times: user 1.82 s, sys: 708 ms, total: 2.52 s\n",
      "Wall time: 35min 30s\n"
     ]
    }
   ],
   "source": [
    "%%time\n",
    "psql.execute(\"CREATE INDEX ON embeddings USING hnsw (embedding vector_cosine_ops)\")\n",
    "psql.commit()"
   ]
  },
  {
   "cell_type": "code",
   "execution_count": 35,
   "metadata": {},
   "outputs": [
    {
     "data": {
      "application/vnd.jupyter.widget-view+json": {
       "model_id": "447ed420cbcc47f3bc68467d8ffe4ed4",
       "version_major": 2,
       "version_minor": 0
      },
      "text/plain": [
       "  0%|          | 0/393997 [00:00<?, ?it/s]"
      ]
     },
     "metadata": {},
     "output_type": "display_data"
    }
   ],
   "source": [
    "for w in tqdm(w2v.index_to_key, total=len(w2v.index_to_key)):\n",
    "    r = psql.execute(\"SELECT * FROM embeddings WHERE word=%s\", (word,)).fetchone()"
   ]
  },
  {
   "cell_type": "code",
   "execution_count": 51,
   "metadata": {},
   "outputs": [
    {
     "data": {
      "application/vnd.jupyter.widget-view+json": {
       "model_id": "5dd7bc6d14f5449281ea8db71e39bd14",
       "version_major": 2,
       "version_minor": 0
      },
      "text/plain": [
       "  0%|          | 0/393997 [00:00<?, ?it/s]"
      ]
     },
     "metadata": {},
     "output_type": "display_data"
    }
   ],
   "source": [
    "for v in tqdm(w2v.vectors, total=len(w2v.vectors)):\n",
    "    r2 = psql.execute(\"SELECT * FROM embeddings ORDER BY embedding <=> %s LIMIT 10\", \n",
    "                      (str(v.tolist()),)).fetchall()"
   ]
  },
  {
   "cell_type": "code",
   "execution_count": null,
   "metadata": {},
   "outputs": [],
   "source": [
    "psql.close()"
   ]
  }
 ],
 "metadata": {
  "kernelspec": {
   "display_name": "Python 3 (ipykernel)",
   "language": "python",
   "name": "python3"
  },
  "language_info": {
   "codemirror_mode": {
    "name": "ipython",
    "version": 3
   },
   "file_extension": ".py",
   "mimetype": "text/x-python",
   "name": "python",
   "nbconvert_exporter": "python",
   "pygments_lexer": "ipython3",
   "version": "3.10.12"
  }
 },
 "nbformat": 4,
 "nbformat_minor": 4
}
